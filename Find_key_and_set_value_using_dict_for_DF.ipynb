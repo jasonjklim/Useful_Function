{
 "cells": [
  {
   "cell_type": "code",
   "execution_count": 5,
   "metadata": {},
   "outputs": [],
   "source": [
    "import pandas as pd\n",
    "import numpy as np\n",
    "from collections import OrderedDict "
   ]
  },
  {
   "cell_type": "code",
   "execution_count": 6,
   "metadata": {},
   "outputs": [],
   "source": [
    "# Pull out All State FIPS Code from Geocodes csv\n",
    "geocodes = pd.read_csv(r\"/Users/jasonlim/Desktop/EFGS/Census-master/Geocodes/state-geocodes-v2018.csv\")\n",
    "cols = geocodes.iloc[4,].values\n",
    "geocodes = geocodes[5:]\n",
    "\n",
    "geocodes.columns = cols\n",
    "# Filter out region codes\n",
    "\n",
    "geo_state = geocodes[geocodes['State (FIPS)'] !='00']\n",
    "\n",
    "staet_dic = dict(zip(geo_state['State (FIPS)'], geo_state['Name']))\n",
    "\n",
    "state_dic1 = OrderedDict(sorted(staet_dic.items())) \n",
    "\n"
   ]
  },
  {
   "cell_type": "code",
   "execution_count": 7,
   "metadata": {},
   "outputs": [],
   "source": [
    "def set_value(row_number, assigned_value): \n",
    "    return assigned_value[row_number] "
   ]
  },
  {
   "cell_type": "code",
   "execution_count": null,
   "metadata": {},
   "outputs": [],
   "source": [
    "# Add a new column named 'st_name' \n",
    "year2000_all_categories['St_Name'] = year2000_all_categories['Fips_State'].apply(set_value, args =(state_dic1, ))"
   ]
  }
 ],
 "metadata": {
  "kernelspec": {
   "display_name": "Python 3",
   "language": "python",
   "name": "python3"
  },
  "language_info": {
   "codemirror_mode": {
    "name": "ipython",
    "version": 3
   },
   "file_extension": ".py",
   "mimetype": "text/x-python",
   "name": "python",
   "nbconvert_exporter": "python",
   "pygments_lexer": "ipython3",
   "version": "3.7.7"
  }
 },
 "nbformat": 4,
 "nbformat_minor": 4
}
